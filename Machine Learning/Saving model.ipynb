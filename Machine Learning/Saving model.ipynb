{
 "cells": [
  {
   "cell_type": "code",
   "execution_count": 1,
   "id": "591fc5ba",
   "metadata": {},
   "outputs": [],
   "source": [
    "import pickle\n",
    "import joblib"
   ]
  },
  {
   "cell_type": "code",
   "execution_count": 2,
   "id": "0de76dd2",
   "metadata": {},
   "outputs": [
    {
     "name": "stdout",
     "output_type": "stream",
     "text": [
      "Enter distance from city center :1.2\n",
      "Enter no of rooms :3\n",
      "Enter size :295\n",
      "Predicted Price : [2342.37366508]\n"
     ]
    }
   ],
   "source": [
    "#For pickle model\n",
    "with open(\"model_picklefeb\",\"br\") as f:\n",
    "    mop=pickle.load(f)\n",
    "distance=float(input(\"Enter distance from city center :\"))\n",
    "room=int(input(\"Enter no of rooms :\"))\n",
    "size=float(input(\"Enter size :\"))\n",
    "print(\"Predicted Price :\",mop.predict([[distance,room,size]]))"
   ]
  },
  {
   "cell_type": "code",
   "execution_count": 3,
   "id": "e8d51ed5",
   "metadata": {},
   "outputs": [
    {
     "name": "stdout",
     "output_type": "stream",
     "text": [
      "Enter distance from city center :2.4\n",
      "Enter no of rooms :4\n",
      "Enter size :287\n",
      "Predicted Price : [2237.17069578]\n"
     ]
    }
   ],
   "source": [
    "#For joblib model\n",
    "mo=joblib.load(\"model_joblibfeb\")\n",
    "distance=float(input(\"Enter distance from city center :\"))\n",
    "room=int(input(\"Enter no of rooms :\"))\n",
    "size=float(input(\"Enter size :\"))\n",
    "print(\"Predicted Price :\",mo.predict([[distance,room,size]]))"
   ]
  },
  {
   "cell_type": "code",
   "execution_count": null,
   "id": "a8d08738",
   "metadata": {},
   "outputs": [],
   "source": [
    "\n"
   ]
  }
 ],
 "metadata": {
  "kernelspec": {
   "display_name": "Python 3 (ipykernel)",
   "language": "python",
   "name": "python3"
  },
  "language_info": {
   "codemirror_mode": {
    "name": "ipython",
    "version": 3
   },
   "file_extension": ".py",
   "mimetype": "text/x-python",
   "name": "python",
   "nbconvert_exporter": "python",
   "pygments_lexer": "ipython3",
   "version": "3.10.9"
  }
 },
 "nbformat": 4,
 "nbformat_minor": 5
}
